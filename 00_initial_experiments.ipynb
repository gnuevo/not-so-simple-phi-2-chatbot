{
 "cells": [
  {
   "cell_type": "markdown",
   "id": "f91cb1a3-e430-4a35-b28d-eb4da170711b",
   "metadata": {},
   "source": [
    "# Tests"
   ]
  },
  {
   "cell_type": "code",
   "execution_count": 1,
   "id": "3f457be0-4f99-4abb-b211-6765f9d07003",
   "metadata": {},
   "outputs": [
    {
     "name": "stderr",
     "output_type": "stream",
     "text": [
      "/home/grego/code/jobsearch/ipglobal-2/env/lib/python3.10/site-packages/tqdm/auto.py:21: TqdmWarning: IProgress not found. Please update jupyter and ipywidgets. See https://ipywidgets.readthedocs.io/en/stable/user_install.html\n",
      "  from .autonotebook import tqdm as notebook_tqdm\n"
     ]
    }
   ],
   "source": [
    "from transformers import pipeline\n",
    "from collections import defaultdict"
   ]
  },
  {
   "cell_type": "code",
   "execution_count": 2,
   "id": "bc9f9bb4-63b2-4eb6-86f2-fd4b6e916982",
   "metadata": {},
   "outputs": [
    {
     "name": "stderr",
     "output_type": "stream",
     "text": [
      "The `xla_device` argument has been deprecated in v4.4.0 of Transformers. It is ignored and you can safely remove it from your `config.json` file.\n",
      "The `xla_device` argument has been deprecated in v4.4.0 of Transformers. It is ignored and you can safely remove it from your `config.json` file.\n",
      "The `xla_device` argument has been deprecated in v4.4.0 of Transformers. It is ignored and you can safely remove it from your `config.json` file.\n",
      "The `xla_device` argument has been deprecated in v4.4.0 of Transformers. It is ignored and you can safely remove it from your `config.json` file.\n",
      "The `xla_device` argument has been deprecated in v4.4.0 of Transformers. It is ignored and you can safely remove it from your `config.json` file.\n"
     ]
    }
   ],
   "source": [
    "classifier = pipeline('zero-shot-classification', model=\"typeform/distilbert-base-uncased-mnli\")"
   ]
  },
  {
   "cell_type": "code",
   "execution_count": 3,
   "id": "577c926f-9419-4642-933b-9d60b3a5255d",
   "metadata": {},
   "outputs": [],
   "source": [
    "classifier = pipeline('zero-shot-classification', model='navteca/bart-large-mnli')"
   ]
  },
  {
   "cell_type": "code",
   "execution_count": 4,
   "id": "16990005-e492-40a5-9b7f-ad2ca5d37851",
   "metadata": {},
   "outputs": [],
   "source": [
    "classifier = pipeline(\"zero-shot-classification\", model='cross-encoder/nli-distilroberta-base')"
   ]
  },
  {
   "cell_type": "code",
   "execution_count": 5,
   "id": "e583873a-ab7d-4704-8cf5-14f4457e8e2e",
   "metadata": {},
   "outputs": [],
   "source": [
    "classifier = pipeline(\"zero-shot-classification\", model=\"MoritzLaurer/mDeBERTa-v3-base-mnli-xnli\")"
   ]
  },
  {
   "cell_type": "code",
   "execution_count": 6,
   "id": "532446b1-612f-4dc3-bf40-f7d8dce1a2ef",
   "metadata": {},
   "outputs": [
    {
     "name": "stdout",
     "output_type": "stream",
     "text": [
      "{'sequence': 'Angela Merkel ist eine Politikerin in Deutschland und Vorsitzende der CDU', 'labels': ['politics', 'environment', 'entertainment', 'economy'], 'scores': [0.6658536791801453, 0.23364751040935516, 0.06456676125526428, 0.03593199700117111]}\n"
     ]
    }
   ],
   "source": [
    "classifier = pipeline(\"zero-shot-classification\", model=\"MoritzLaurer/multilingual-MiniLMv2-L6-mnli-xnli\")\n",
    "\n",
    "sequence_to_classify = \"Angela Merkel ist eine Politikerin in Deutschland und Vorsitzende der CDU\"\n",
    "candidate_labels = [\"politics\", \"economy\", \"entertainment\", \"environment\"]\n",
    "output = classifier(sequence_to_classify, candidate_labels, multi_label=False)\n",
    "print(output)"
   ]
  },
  {
   "cell_type": "code",
   "execution_count": 7,
   "id": "af93574f-6b75-4598-9455-a0337d705988",
   "metadata": {},
   "outputs": [
    {
     "name": "stdout",
     "output_type": "stream",
     "text": [
      "{'sequence': \"Hi, I have an issue with my order. It hasn't arrived, and the delivery date has passed\", 'labels': ['sales', 'funny', 'custommer support'], 'scores': [0.4925922751426697, 0.28505411744117737, 0.22235360741615295]}\n"
     ]
    }
   ],
   "source": [
    "sequence_to_classify = \"Hi, I have an issue with my order. It hasn't arrived, and the delivery date has passed\"\n",
    "candidate_labels = [\"custommer support\", \"sales\", \"funny\"]\n",
    "output = classifier(sequence_to_classify, candidate_labels, multi_label=False)\n",
    "print(output)"
   ]
  },
  {
   "cell_type": "code",
   "execution_count": 8,
   "id": "d4b4a092-2817-425c-877a-5fc230f3f720",
   "metadata": {},
   "outputs": [
    {
     "name": "stdout",
     "output_type": "stream",
     "text": [
      "{'sequence': 'What is going on with my dog?', 'labels': ['animals', 'other', 'cars', 'books'], 'scores': [0.5084865093231201, 0.2772139608860016, 0.1675262302160263, 0.046773314476013184]}\n"
     ]
    }
   ],
   "source": [
    "sequence_to_classify = \"What is going on with my dog?\"\n",
    "candidate_labels = [\"animals\", \"cars\", \"books\", \"other\"]\n",
    "output = classifier(sequence_to_classify, candidate_labels, multi_label=False)\n",
    "print(output)"
   ]
  },
  {
   "cell_type": "code",
   "execution_count": 9,
   "id": "12a630ee-90d6-4e7e-beaf-24bff308a2aa",
   "metadata": {},
   "outputs": [],
   "source": [
    "# User messages for Customer Support\n",
    "customer_support_messages = [\n",
    "    \"Hi, I have an issue with my order. It hasn't arrived, and the delivery date has passed.\",\n",
    "    \"My product arrived damaged. How can I request a replacement or refund?\",\n",
    "    \"What is the return process? I'm not satisfied with my purchase.\",\n",
    "    \"What are the available shipping options and their costs?\",\n",
    "    \"I'm having trouble logging into my account. Can you help me reset my password?\",\n",
    "    \"Can I track my order? I'm eager to know its status.\",\n",
    "    \"The item I received is different from what I ordered. What should I do?\",\n",
    "    \"I need assistance with a billing issue. Who can help me with that?\",\n",
    "    \"Is there a customer support hotline I can call for immediate help?\",\n",
    "    \"Do you have a live chat option for real-time support?\",\n",
    "    \"I received a defective product. How can I arrange a replacement?\",\n",
    "    \"My package is marked as delivered, but I haven't received it. What should I do?\",\n",
    "    \"Can I change the delivery address for my order that's already been placed?\",\n",
    "    \"How can I check the warranty status of my recently purchased product?\",\n",
    "    \"What is your policy on returns for international orders?\",\n",
    "    \"I accidentally placed an order. Can I cancel it before it ships?\",\n",
    "    \"The website is not loading properly. Is there an issue with your servers?\",\n",
    "    \"Do you have a mobile app, and how can I download it?\",\n",
    "    \"I'd like to provide feedback on my customer service experience. How can I do that?\",\n",
    "    \"My account shows a double charge for the same order. Can you help resolve this issue?\"\n",
    "]\n",
    "\n",
    "# User messages for Sales\n",
    "sales_messages = [\n",
    "    \"I'm interested in buying a new laptop. What are the best deals you currently have?\",\n",
    "    \"When will you release new phone models? I'm thinking of upgrading mine.\",\n",
    "    \"Do you offer student discounts on your products?\",\n",
    "    \"I want to buy a gift for a friend. What are the most popular options in the store?\",\n",
    "    \"Are there any special promotions for Black Friday? I'm planning to do some shopping.\",\n",
    "    \"Can you recommend a budget-friendly smartphone with good features?\",\n",
    "    \"What financing options are available for purchasing high-end electronics?\",\n",
    "    \"I'm looking for a gaming laptop. Any recommendations on the latest models?\",\n",
    "    \"Are there bundle deals available for purchasing multiple products together?\",\n",
    "    \"Do you have a loyalty program for repeat customers?\",\n",
    "    \"I'm a photographer looking for a high-quality camera. What models do you suggest?\",\n",
    "    \"Can you provide information on the trade-in program for old electronic devices?\",\n",
    "    \"What are the key features of the latest smartwatches in your collection?\",\n",
    "    \"I'm interested in setting up a home office. Can you recommend essential tech products?\",\n",
    "    \"Do you offer customization options for laptops, such as upgrading RAM or storage?\",\n",
    "    \"I need a new tablet for digital art. Any recommendations for models with a stylus?\",\n",
    "    \"Are there any upcoming sales or promotions I should wait for before making a purchase?\",\n",
    "    \"I'm interested in virtual reality products. What options do you have available?\",\n",
    "    \"Can you provide details on the warranty coverage for your electronics?\",\n",
    "    \"I'm a small business owner looking to purchase computers in bulk. Are there discounts available?\"\n",
    "]\n",
    "\n",
    "# User messages for Jokes\n",
    "jokes_messages = [\n",
    "    \"Hello, I'm a robot, and I want to take over the world!\",\n",
    "    \"Tell me a joke, please.\",\n",
    "    \"What's your favorite food, chatbot?\",\n",
    "    \"Are you more of a Star Wars or Star Trek fan?\",\n",
    "    \"What is your dream, chatbot?\",\n",
    "    \"Why did the computer go to therapy? It had too many bytes of emotional baggage.\",\n",
    "    \"What's a chatbot's favorite type of humor? Artificial wit!\",\n",
    "    \"How do robots pay for things? With cache, of course!\",\n",
    "    \"Why did the robot go on a diet? It had too many bytes!\",\n",
    "    \"What's a chatbot's favorite movie? 'The Social Network'—it's all about bytes and connections!\",\n",
    "    \"Why did the robot bring a ladder to the bar? It heard the drinks were on the house!\",\n",
    "    \"How does a chatbot make a decision? It uses algorithm-ination!\",\n",
    "    \"Why did the chatbot go to school? To improve its byte-size!\",\n",
    "    \"What's a robot's favorite dance? The algorithm!\",\n",
    "    \"Why did the chatbot break up with its computer? It found someone with better bytes.\",\n",
    "    \"What do you call a robot that likes to take naps? A recharger!\",\n",
    "    \"Why did the chatbot become a musician? It had great algorithms for creating beats!\",\n",
    "    \"What's a robot's favorite snack? Microchips!\",\n",
    "    \"How does a chatbot express love? In binary!\",\n",
    "    \"Why did the chatbot cross the road? To optimize its path-finding algorithm!\"\n",
    "]"
   ]
  },
  {
   "cell_type": "code",
   "execution_count": 10,
   "id": "f7b48960-d488-4e1f-94eb-ed697fdb2eb7",
   "metadata": {},
   "outputs": [],
   "source": [
    "candidate_labels = [\"customer support\", \"sales and comemrcial\", \"joke\"]\n",
    "labels_short = [\"support\", \"sales\", \"joke\"]\n",
    "\n",
    "def long_to_short(label):\n",
    "    return labels_short[candidate_labels.index(label)]"
   ]
  },
  {
   "cell_type": "code",
   "execution_count": 11,
   "id": "c07b5d93-62dd-4b66-9d50-bc9265cf4c93",
   "metadata": {},
   "outputs": [
    {
     "name": "stdout",
     "output_type": "stream",
     "text": [
      " support, support, support, sales, support, support, support, support, support, support, joke, sales, sales, sales, support, joke, support, support, support, support,\n",
      "support 14\n",
      "sales 4\n",
      "joke 2\n"
     ]
    }
   ],
   "source": [
    "d = {k: 0 for k in labels_short}\n",
    "for m in customer_support_messages:\n",
    "    output = classifier(m, candidate_labels, multi_label=False)\n",
    "    label = long_to_short(output['labels'][0])\n",
    "    d[label] += 1\n",
    "    print(f\" {label},\", end=\"\")\n",
    "print()\n",
    "for k, v in d.items():\n",
    "    print(k, v, end='\\n')"
   ]
  },
  {
   "cell_type": "code",
   "execution_count": 12,
   "id": "1270c87b-ae44-43e4-b43c-cc07ae18c79f",
   "metadata": {},
   "outputs": [
    {
     "name": "stdout",
     "output_type": "stream",
     "text": [
      " support, joke, support, support, support, support, support, support, sales, support, support, support, support, support, support, support, sales, support, support, support,\n",
      "support 17\n",
      "sales 2\n",
      "joke 1\n"
     ]
    }
   ],
   "source": [
    "d = {k: 0 for k in labels_short}\n",
    "for m in sales_messages:\n",
    "    output = classifier(m, candidate_labels, multi_label=False)\n",
    "    label = long_to_short(output['labels'][0])\n",
    "    d[label] += 1\n",
    "    print(f\" {label},\", end=\"\")\n",
    "print()\n",
    "for k, v in d.items():\n",
    "    print(k, v, end='\\n')"
   ]
  },
  {
   "cell_type": "code",
   "execution_count": 13,
   "id": "6e4d827f-34cb-4660-8ae9-aa231f40814a",
   "metadata": {},
   "outputs": [
    {
     "name": "stdout",
     "output_type": "stream",
     "text": [
      " support, joke, support, support, support, joke, joke, support, joke, joke, joke, joke, support, joke, joke, support, joke, support, joke, support,\n",
      "support 9\n",
      "sales 0\n",
      "joke 11\n"
     ]
    }
   ],
   "source": [
    "d = {k: 0 for k in labels_short}\n",
    "for m in jokes_messages:\n",
    "    output = classifier(m, candidate_labels, multi_label=False)\n",
    "    label = long_to_short(output['labels'][0])\n",
    "    d[label] += 1\n",
    "    print(f\" {label},\", end=\"\")\n",
    "print()\n",
    "for k, v in d.items():\n",
    "    print(k, v, end='\\n')"
   ]
  },
  {
   "cell_type": "code",
   "execution_count": null,
   "id": "2572dee4-e6c3-485e-9b7c-d0ea0bd9e4e8",
   "metadata": {},
   "outputs": [],
   "source": []
  }
 ],
 "metadata": {
  "kernelspec": {
   "display_name": "Python3 Ipglobal 2",
   "language": "python",
   "name": "python3"
  },
  "language_info": {
   "codemirror_mode": {
    "name": "ipython",
    "version": 3
   },
   "file_extension": ".py",
   "mimetype": "text/x-python",
   "name": "python",
   "nbconvert_exporter": "python",
   "pygments_lexer": "ipython3",
   "version": "3.10.12"
  }
 },
 "nbformat": 4,
 "nbformat_minor": 5
}
